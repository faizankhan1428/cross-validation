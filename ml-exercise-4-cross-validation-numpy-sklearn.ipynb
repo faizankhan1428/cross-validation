{
 "cells": [
  {
   "cell_type": "markdown",
   "id": "9dd4c0aa",
   "metadata": {
    "_cell_guid": "b1076dfc-b9ad-4769-8c92-a6c4dae69d19",
    "_uuid": "8f2839f25d086af736a60e9eeb907d3b93b6e0e5",
    "papermill": {
     "duration": 0.00317,
     "end_time": "2025-07-17T17:53:19.739278",
     "exception": false,
     "start_time": "2025-07-17T17:53:19.736108",
     "status": "completed"
    },
    "tags": []
   },
   "source": [
    "<div style=\"background-color:#e6f0ff; padding:15px; border-radius:10px; font-size:16px\">\n",
    "\n",
    "### 📘 Exercise 4 – Cross-Validation Basics | ML Basics\n",
    "\n",
    "</div>"
   ]
  },
  {
   "cell_type": "markdown",
   "id": "de7825ec",
   "metadata": {
    "papermill": {
     "duration": 0.002236,
     "end_time": "2025-07-17T17:53:19.744452",
     "exception": false,
     "start_time": "2025-07-17T17:53:19.742216",
     "status": "completed"
    },
    "tags": []
   },
   "source": [
    "## Objective\n",
    "Understand the importance of cross-validation in model evaluation and compare it with simple train/test split."
   ]
  },
  {
   "cell_type": "markdown",
   "id": "fee492f7",
   "metadata": {
    "papermill": {
     "duration": 0.00218,
     "end_time": "2025-07-17T17:53:19.749109",
     "exception": false,
     "start_time": "2025-07-17T17:53:19.746929",
     "status": "completed"
    },
    "tags": []
   },
   "source": [
    "## Step 1: Imports & Dataset"
   ]
  },
  {
   "cell_type": "code",
   "execution_count": 1,
   "id": "0cc9651b",
   "metadata": {
    "execution": {
     "iopub.execute_input": "2025-07-17T17:53:19.755108Z",
     "iopub.status.busy": "2025-07-17T17:53:19.754811Z",
     "iopub.status.idle": "2025-07-17T17:53:21.496899Z",
     "shell.execute_reply": "2025-07-17T17:53:21.495923Z"
    },
    "papermill": {
     "duration": 1.74732,
     "end_time": "2025-07-17T17:53:21.498758",
     "exception": false,
     "start_time": "2025-07-17T17:53:19.751438",
     "status": "completed"
    },
    "tags": []
   },
   "outputs": [],
   "source": [
    "import numpy as np\n",
    "import matplotlib.pyplot as plt\n",
    "from sklearn.datasets import load_iris\n",
    "from sklearn.linear_model import LogisticRegression\n",
    "from sklearn.model_selection import train_test_split, KFold, StratifiedKFold, cross_val_score"
   ]
  },
  {
   "cell_type": "code",
   "execution_count": 2,
   "id": "0257d266",
   "metadata": {
    "execution": {
     "iopub.execute_input": "2025-07-17T17:53:21.505393Z",
     "iopub.status.busy": "2025-07-17T17:53:21.504991Z",
     "iopub.status.idle": "2025-07-17T17:53:21.516148Z",
     "shell.execute_reply": "2025-07-17T17:53:21.515244Z"
    },
    "papermill": {
     "duration": 0.016294,
     "end_time": "2025-07-17T17:53:21.517820",
     "exception": false,
     "start_time": "2025-07-17T17:53:21.501526",
     "status": "completed"
    },
    "tags": []
   },
   "outputs": [],
   "source": [
    "# Load dataset\n",
    "data = load_iris()\n",
    "X, y = data.data, data.target\n",
    "X = X[y != 2]  # Binary classification (setosa vs versicolor)\n",
    "y = y[y != 2]"
   ]
  },
  {
   "cell_type": "markdown",
   "id": "a29f6762",
   "metadata": {
    "papermill": {
     "duration": 0.002326,
     "end_time": "2025-07-17T17:53:21.522757",
     "exception": false,
     "start_time": "2025-07-17T17:53:21.520431",
     "status": "completed"
    },
    "tags": []
   },
   "source": [
    "## Step 2: Train/Test Split Evaluation"
   ]
  },
  {
   "cell_type": "code",
   "execution_count": 3,
   "id": "90f98dc2",
   "metadata": {
    "execution": {
     "iopub.execute_input": "2025-07-17T17:53:21.528726Z",
     "iopub.status.busy": "2025-07-17T17:53:21.528376Z",
     "iopub.status.idle": "2025-07-17T17:53:21.557126Z",
     "shell.execute_reply": "2025-07-17T17:53:21.555150Z"
    },
    "papermill": {
     "duration": 0.033863,
     "end_time": "2025-07-17T17:53:21.559030",
     "exception": false,
     "start_time": "2025-07-17T17:53:21.525167",
     "status": "completed"
    },
    "tags": []
   },
   "outputs": [
    {
     "name": "stdout",
     "output_type": "stream",
     "text": [
      "Train/Test Split Accuracy: 1.00\n"
     ]
    }
   ],
   "source": [
    "X_train, X_test, y_train, y_test = train_test_split(X, y, test_size=0.3, random_state=42)\n",
    "\n",
    "model = LogisticRegression()\n",
    "model.fit(X_train, y_train)\n",
    "print(f\"Train/Test Split Accuracy: {model.score(X_test, y_test):.2f}\")"
   ]
  },
  {
   "cell_type": "markdown",
   "id": "4c18e2ee",
   "metadata": {
    "papermill": {
     "duration": 0.0037,
     "end_time": "2025-07-17T17:53:21.567056",
     "exception": false,
     "start_time": "2025-07-17T17:53:21.563356",
     "status": "completed"
    },
    "tags": []
   },
   "source": [
    "## Step 3: K-Fold Cross-Validation"
   ]
  },
  {
   "cell_type": "code",
   "execution_count": 4,
   "id": "ea43fa33",
   "metadata": {
    "execution": {
     "iopub.execute_input": "2025-07-17T17:53:21.577018Z",
     "iopub.status.busy": "2025-07-17T17:53:21.576267Z",
     "iopub.status.idle": "2025-07-17T17:53:21.621125Z",
     "shell.execute_reply": "2025-07-17T17:53:21.620319Z"
    },
    "papermill": {
     "duration": 0.052431,
     "end_time": "2025-07-17T17:53:21.623415",
     "exception": false,
     "start_time": "2025-07-17T17:53:21.570984",
     "status": "completed"
    },
    "tags": []
   },
   "outputs": [
    {
     "name": "stdout",
     "output_type": "stream",
     "text": [
      "K-Fold CV Accuracies: [1. 1. 1. 1. 1.]\n",
      "Mean Accuracy: 1.00\n"
     ]
    }
   ],
   "source": [
    "kf = KFold(n_splits=5, shuffle=True, random_state=42)\n",
    "cv_scores = cross_val_score(LogisticRegression(), X, y, cv=kf)\n",
    "print(\"K-Fold CV Accuracies:\", cv_scores)\n",
    "print(f\"Mean Accuracy: {np.mean(cv_scores):.2f}\")"
   ]
  },
  {
   "cell_type": "markdown",
   "id": "ffc7f91f",
   "metadata": {
    "papermill": {
     "duration": 0.00407,
     "end_time": "2025-07-17T17:53:21.631912",
     "exception": false,
     "start_time": "2025-07-17T17:53:21.627842",
     "status": "completed"
    },
    "tags": []
   },
   "source": [
    "## Step 4: Stratified K-Fold"
   ]
  },
  {
   "cell_type": "code",
   "execution_count": 5,
   "id": "b2e4e9f1",
   "metadata": {
    "execution": {
     "iopub.execute_input": "2025-07-17T17:53:21.643144Z",
     "iopub.status.busy": "2025-07-17T17:53:21.641129Z",
     "iopub.status.idle": "2025-07-17T17:53:21.684316Z",
     "shell.execute_reply": "2025-07-17T17:53:21.683518Z"
    },
    "papermill": {
     "duration": 0.049878,
     "end_time": "2025-07-17T17:53:21.685940",
     "exception": false,
     "start_time": "2025-07-17T17:53:21.636062",
     "status": "completed"
    },
    "tags": []
   },
   "outputs": [
    {
     "name": "stdout",
     "output_type": "stream",
     "text": [
      "Stratified K-Fold Accuracies: [1. 1. 1. 1. 1.]\n",
      "Mean Accuracy: 1.00\n"
     ]
    }
   ],
   "source": [
    "skf = StratifiedKFold(n_splits=5, shuffle=True, random_state=42)\n",
    "strat_scores = cross_val_score(LogisticRegression(), X, y, cv=skf)\n",
    "print(\"Stratified K-Fold Accuracies:\", strat_scores)\n",
    "print(f\"Mean Accuracy: {np.mean(strat_scores):.2f}\")"
   ]
  },
  {
   "cell_type": "markdown",
   "id": "9c048aed",
   "metadata": {
    "papermill": {
     "duration": 0.00398,
     "end_time": "2025-07-17T17:53:21.694919",
     "exception": false,
     "start_time": "2025-07-17T17:53:21.690939",
     "status": "completed"
    },
    "tags": []
   },
   "source": [
    "## Step 5: Visualize Comparison"
   ]
  },
  {
   "cell_type": "code",
   "execution_count": 6,
   "id": "a9435d4b",
   "metadata": {
    "execution": {
     "iopub.execute_input": "2025-07-17T17:53:21.704518Z",
     "iopub.status.busy": "2025-07-17T17:53:21.704200Z",
     "iopub.status.idle": "2025-07-17T17:53:21.947173Z",
     "shell.execute_reply": "2025-07-17T17:53:21.946183Z"
    },
    "papermill": {
     "duration": 0.249433,
     "end_time": "2025-07-17T17:53:21.948548",
     "exception": false,
     "start_time": "2025-07-17T17:53:21.699115",
     "status": "completed"
    },
    "tags": []
   },
   "outputs": [
    {
     "data": {
      "image/png": "[encoded data removed]",
      "text/plain": [
       "<Figure size 640x480 with 1 Axes>"
      ]
     },
     "metadata": {},
     "output_type": "display_data"
    }
   ],
   "source": [
    "methods = ['Train/Test Split', 'K-Fold', 'Stratified K-Fold']\n",
    "scores = [model.score(X_test, y_test), np.mean(cv_scores), np.mean(strat_scores)]\n",
    "\n",
    "plt.bar(methods, scores, color=['skyblue', 'orange', 'lightgreen'])\n",
    "plt.ylabel('Accuracy')\n",
    "plt.title('Evaluation Methods Comparison')\n",
    "plt.ylim(0.5, 1.0)\n",
    "plt.grid(True, axis='y')\n",
    "plt.show()"
   ]
  },
  {
   "cell_type": "markdown",
   "id": "09ea5363",
   "metadata": {
    "papermill": {
     "duration": 0.003852,
     "end_time": "2025-07-17T17:53:21.955811",
     "exception": false,
     "start_time": "2025-07-17T17:53:21.951959",
     "status": "completed"
    },
    "tags": []
   },
   "source": [
    "## ✅ Summary\n",
    "Cross-validation gives more reliable performance estimates.\n",
    "\n",
    "Stratified K-Fold is better for imbalanced datasets.\n",
    "\n",
    "K-Fold helps reduce variance in model evaluation."
   ]
  }
 ],
 "metadata": {
  "kaggle": {
   "accelerator": "none",
   "dataSources": [],
   "dockerImageVersionId": 31089,
   "isGpuEnabled": false,
   "isInternetEnabled": true,
   "language": "python",
   "sourceType": "notebook"
  },
  "kernelspec": {
   "display_name": "Python 3",
   "language": "python",
   "name": "python3"
  },
  "language_info": {
   "codemirror_mode": {
    "name": "ipython",
    "version": 3
   },
   "file_extension": ".py",
   "mimetype": "text/x-python",
   "name": "python",
   "nbconvert_exporter": "python",
   "pygments_lexer": "ipython3",
   "version": "3.11.13"
  },
  "papermill": {
   "default_parameters": {},
   "duration": 7.639924,
   "end_time": "2025-07-17T17:53:22.578744",
   "environment_variables": {},
   "exception": null,
   "input_path": "__notebook__.ipynb",
   "output_path": "__notebook__.ipynb",
   "parameters": {},
   "start_time": "2025-07-17T17:53:14.938820",
   "version": "2.6.0"
  }
 },
 "nbformat": 4,
 "nbformat_minor": 5
}
